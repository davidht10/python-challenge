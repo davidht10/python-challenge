{
 "cells": [
  {
   "cell_type": "code",
   "execution_count": 8,
   "id": "e2a0ba95-8073-425e-8f46-ccc9492ee551",
   "metadata": {},
   "outputs": [
    {
     "name": "stdout",
     "output_type": "stream",
     "text": [
      "Current Working Directory: /Users/davidtaylor/Desktop/Fintech_2023/Assignments/Assignment_2/Starter_Code\n",
      "/Users/davidtaylor/Desktop/Fintech_2023/Assignments/Assignment_2/Starter_Code\n",
      "________\n",
      "{PosixPath('/Users/davidtaylor/Desktop/Fintech_2023/Assignments/Assignment_2/Starter_Code/PyBank/Resources/budget_data.csv')}\n"
     ]
    }
   ],
   "source": [
    "#setting up & simply importing csvs\n",
    "import pandas as pd\n",
    "import numpy as np\n",
    "from pathlib import Path\n",
    "import csv\n",
    "import os\n",
    "\n",
    "#import csvs\n",
    "# Specify the path to the desired directory\n",
    "new_directory = '/Users/davidtaylor/Desktop/Fintech_2023/Assignments/Assignment_2/Starter_Code'\n",
    "\n",
    "# Change the current working directory\n",
    "os.chdir(new_directory)\n",
    "\n",
    "# Verify that the directory has been changed\n",
    "print(\"Current Working Directory:\", os.getcwd())\n",
    "\n",
    "budget_data = Path(\"../../Resources/budget_data.csv\")\n",
    "\n",
    "# Get the current working directory\n",
    "current_directory = Path(os.getcwd())\n",
    "print(current_directory)\n",
    "\n",
    "#Specify the file path relative to the current working directory\n",
    "file_path = current_directory / 'PyBank' / 'Resources' / 'budget_data.csv'\n",
    "\n",
    "budget = file_path.resolve()"
   ]
  },
  {
   "cell_type": "code",
   "execution_count": 9,
   "id": "d2c43b28-3122-4dbc-a974-d3c95df00f49",
   "metadata": {
    "tags": []
   },
   "outputs": [
    {
     "name": "stdout",
     "output_type": "stream",
     "text": [
      "Total number of months: 86\n"
     ]
    }
   ],
   "source": [
    "#total number of months# \n",
    "########################\n",
    "\n",
    "def count_rows(budget):\n",
    "    with open(budget, 'r') as file:\n",
    "        reader = csv.reader(file)\n",
    "        # Use the len() function to get the total number of rows\n",
    "        row_count = len(list(reader))\n",
    "        return row_count\n",
    "\n",
    "# Replace 'your_file.csv' with the actual path to your CSV file\n",
    "file_path = 'your_file.csv'\n",
    "total_months = count_rows(budget) - 1\n",
    "\n",
    "print(f'Total number of months: {total_months}')"
   ]
  },
  {
   "cell_type": "code",
   "execution_count": 10,
   "id": "ba018e82-b138-48f2-ac4c-72e44a0d129d",
   "metadata": {
    "tags": []
   },
   "outputs": [
    {
     "name": "stdout",
     "output_type": "stream",
     "text": [
      "The net profit is: 38382578.0\n"
     ]
    }
   ],
   "source": [
    "#Calculate the net profit\n",
    "#########################\n",
    "\n",
    "def calc_net_profit(csv_file_path):\n",
    "    with open(csv_file_path, 'r') as file:\n",
    "        reader = csv.reader(file)\n",
    "        # Skip the header row if it exists\n",
    "        header = next(reader, None)\n",
    "\n",
    "        #profit/loss column is in the second column (index 1)\n",
    "        profit_loss_index = 1\n",
    "        net_profit = 0\n",
    "\n",
    "        for row in reader:\n",
    "            # Make sure the row has enough columns\n",
    "            if len(row) > profit_loss_index:\n",
    "                # Convert the profit/loss value to a float and add it to net_profit\n",
    "                net_profit += float(row[profit_loss_index])\n",
    "\n",
    "    return net_profit\n",
    "\n",
    "# Replace 'your_file.csv' with the actual path to your CSV file\n",
    "total_net_profit = calc_net_profit(budget)\n",
    "\n",
    "print(f'The net profit is: {total_net_profit}')"
   ]
  },
  {
   "cell_type": "code",
   "execution_count": 17,
   "id": "0e8877e3-00a1-465c-be5b-35430747354f",
   "metadata": {
    "tags": []
   },
   "outputs": [
    {
     "name": "stdout",
     "output_type": "stream",
     "text": [
      "The avg. change in Profit/Losses over the entire period is: -2315.12\n"
     ]
    }
   ],
   "source": [
    "## Calculate The average of the changes in Profit/Losses over the entire period\n",
    "###############################################################################\n",
    "\n",
    "def calculate_average_change(csv_file_path):\n",
    "    with open(budget, 'r') as file:\n",
    "        reader = csv.reader(file)\n",
    "        header = next(reader)\n",
    "\n",
    "        profit_loss_index = 1\n",
    "        previous_value = 0\n",
    "        total_change = 0\n",
    "        count = 0\n",
    "\n",
    "        for row in reader:\n",
    "            # Make sure the row has enough columns\n",
    "            if len(row) > profit_loss_index:\n",
    "                current_value = float(row[profit_loss_index])\n",
    "                if count > 0:\n",
    "                    # Calculate the change and add it to the total\n",
    "                    change = current_value - previous_value\n",
    "                    total_change += change\n",
    "                previous_value = current_value\n",
    "                count += 1\n",
    "\n",
    "        # Calculate the average change\n",
    "        if count > 1:\n",
    "            average_change = total_change / (count - 1)\n",
    "            return average_change\n",
    "        else:\n",
    "            return 0  # There are not enough data points to calculate an average change\n",
    "\n",
    "# Replace 'your_file.csv' with the actual path to your CSV file\n",
    "file_path = 'your_file.csv'\n",
    "average_change = calculate_average_change(file_path)\n",
    "rounded_avg_change = round(average_change,2)\n",
    "\n",
    "print(f'The avg. change in Profit/Losses over the entire period is: {rounded_avg_change}')\n"
   ]
  },
  {
   "cell_type": "code",
   "execution_count": 57,
   "id": "e5f80c9f-8abd-4726-acfb-1cbe7876714f",
   "metadata": {
    "tags": []
   },
   "outputs": [
    {
     "name": "stdout",
     "output_type": "stream",
     "text": [
      "Greatest increase in profits: Feb-2012, ($1926159.0)\n"
     ]
    }
   ],
   "source": [
    "#The greatest increase in profits (date and amount) over the entire period\n",
    "###########################################################################\n",
    "\n",
    "def calc_greatest_increase(csv_file_path):\n",
    "    with open(csv_file_path, 'r') as file:\n",
    "        reader = csv.reader(file)\n",
    "        header = next(reader)\n",
    "\n",
    "        profit_loss_index = 1\n",
    "        previous_value = 0\n",
    "        greatest_increase = 0\n",
    "        greatest_increase_date = \"\"\n",
    "\n",
    "        for row in reader:\n",
    "            if len(row) > profit_loss_index:\n",
    "                date = row[0]\n",
    "                current_value = float(row[profit_loss_index])\n",
    "\n",
    "                if (current_value - previous_value) > greatest_increase:\n",
    "                    # Update greatest_increase and greatest_increase_date\n",
    "                    greatest_increase = current_value - previous_value\n",
    "                    greatest_increase_date = date\n",
    "\n",
    "                previous_value = current_value\n",
    "\n",
    "        return greatest_increase_date, greatest_increase\n",
    "\n",
    "date, amount = calc_greatest_increase(budget)\n",
    "\n",
    "print(f'Greatest increase in profits: {date}, (${amount})')"
   ]
  },
  {
   "cell_type": "code",
   "execution_count": 58,
   "id": "78646c7c-ca9e-4afa-9841-1d904f7af8fc",
   "metadata": {
    "tags": []
   },
   "outputs": [
    {
     "name": "stdout",
     "output_type": "stream",
     "text": [
      "Greatest decrease in profits: Sep-2013, ($-2196167.0)\n"
     ]
    }
   ],
   "source": [
    "#The greatest decrease in losses (date and amount) over the entire period\n",
    "###########################################################################\n",
    "\n",
    "def calc_greatest_decrease(csv_file_path):\n",
    "    with open(csv_file_path, 'r') as file:\n",
    "        reader = csv.reader(file)\n",
    "        header = next(reader)\n",
    "\n",
    "        profit_loss_index = 1\n",
    "        previous_value = 0\n",
    "        greatest_decrease = 0\n",
    "        greatest_decrease_date = \"\"\n",
    "\n",
    "        for row in reader:\n",
    "            # Make sure the row has enough columns\n",
    "            if len(row) > profit_loss_index:\n",
    "                date = row[0]\n",
    "                current_value = float(row[profit_loss_index])\n",
    "\n",
    "                if (current_value - previous_value) < greatest_decrease:\n",
    "                    greatest_decrease = current_value - previous_value\n",
    "                    greatest_decrease_date = date\n",
    "\n",
    "                previous_value = current_value\n",
    "\n",
    "        return greatest_decrease_date, greatest_decrease\n",
    "\n",
    "date_decrease, amount_decrease = calc_greatest_decrease(budget)\n",
    "print(f'Greatest decrease in profits: {date_decrease}, (${amount_decrease})')"
   ]
  },
  {
   "cell_type": "code",
   "execution_count": 60,
   "id": "908cc869-148d-45f9-ac93-a3ea8513113f",
   "metadata": {},
   "outputs": [
    {
     "name": "stdout",
     "output_type": "stream",
     "text": [
      "Financial Analysis\n",
      "------------------\n",
      "Total number of months: 86\n",
      "The net profit is: $38382578.0\n",
      "Average change in Profit/Losses: $-2315.12\n",
      "Greatest increase in profits: Feb-2012, ($1926159.0)\n",
      "Greatest decrease in profits: Sep-2013, ($-2196167.0)\n"
     ]
    }
   ],
   "source": [
    "print('Financial Analysis')\n",
    "print('------------------')\n",
    "#The total number of months included in the dataset\n",
    "print(f'Total number of months: {total_months}')\n",
    "#The net total amount of Profit/Losses over the entire period\n",
    "print(f'The net profit is: ${total_net_profit}')\n",
    "#The average of the changes in Profit/Losses over the entire period\n",
    "print(f'Average change in Profit/Losses: ${rounded_avg_change}')\n",
    "#The greatest increase in profits (date and amount) over the entire period\n",
    "print(f'Greatest increase in profits: {date}, (${amount})')\n",
    "#The greatest decrease in losses (date and amount) over the entire period\n",
    "print(f'Greatest decrease in profits: {date_decrease}, (${amount_decrease})')"
   ]
  },
  {
   "cell_type": "code",
   "execution_count": 65,
   "id": "0141db3e-025b-476c-97cf-d05732088e2e",
   "metadata": {
    "tags": []
   },
   "outputs": [],
   "source": [
    "# Set output file name\n",
    "output_path = 'budget_review.txt'\n",
    "\n",
    "# Open the output path as a file object\n",
    "with open(output_path, 'w') as file:\n",
    "    # Write daily_average to the output file, convert to string\n",
    "\n",
    "    file.write(f\"Financial Analysis \\n\")\n",
    "    file.write(f\"-------------- \\n\")\n",
    "    file.write(f\"Total number of months: {total_months} \\n\")\n",
    "    file.write(f\"The net profit is: ${total_net_profit} \\n\")\n",
    "    file.write(f\"Average change in Profit/Losses: ${rounded_avg_change} \\n\")\n",
    "    file.write(f\"Greatest increase in profits: {date}, (${amount}) \\n\")\n",
    "    file.write(f\"Greatest decrease in profits: {date_decrease}, (${amount_decrease}) \\n\")\n",
    "    \n",
    "\n"
   ]
  },
  {
   "cell_type": "code",
   "execution_count": null,
   "id": "f46326dd-aca1-4d28-9101-359526783651",
   "metadata": {},
   "outputs": [],
   "source": []
  }
 ],
 "metadata": {
  "kernelspec": {
   "display_name": "Python 3 (ipykernel)",
   "language": "python",
   "name": "python3"
  },
  "language_info": {
   "codemirror_mode": {
    "name": "ipython",
    "version": 3
   },
   "file_extension": ".py",
   "mimetype": "text/x-python",
   "name": "python",
   "nbconvert_exporter": "python",
   "pygments_lexer": "ipython3",
   "version": "3.10.13"
  }
 },
 "nbformat": 4,
 "nbformat_minor": 5
}
